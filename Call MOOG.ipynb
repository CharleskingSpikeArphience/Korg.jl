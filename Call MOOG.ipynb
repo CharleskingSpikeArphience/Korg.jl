{
 "cells": [
  {
   "cell_type": "code",
   "execution_count": 2,
   "id": "younger-burlington",
   "metadata": {},
   "outputs": [
    {
     "name": "stdout",
     "output_type": "stream",
     "text": [
      " a =   0.10000000000000001     \n"
     ]
    },
    {
     "data": {
      "text/plain": [
       "0.21036505649448392"
      ]
     },
     "execution_count": 2,
     "metadata": {},
     "output_type": "execute_result"
    }
   ],
   "source": [
    "a = Float64[0.1]\n",
    "v = Float64[1.0]\n",
    "ccall((:voigt_, \"./Voigt.so\"), Float64, (Ptr{Float64}, Ptr{Float64}), a, v)"
   ]
  },
  {
   "cell_type": "code",
   "execution_count": null,
   "id": "surgical-tuition",
   "metadata": {},
   "outputs": [],
   "source": []
  }
 ],
 "metadata": {
  "kernelspec": {
   "display_name": "Julia 1.5.0",
   "language": "julia",
   "name": "julia-1.5"
  },
  "language_info": {
   "file_extension": ".jl",
   "mimetype": "application/julia",
   "name": "julia",
   "version": "1.5.0"
  }
 },
 "nbformat": 4,
 "nbformat_minor": 5
}
